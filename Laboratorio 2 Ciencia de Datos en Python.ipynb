{
 "cells": [
  {
   "cell_type": "markdown",
   "metadata": {},
   "source": [
    "### 1.1 Haga un programa en Python que reciba de par´ametro un n´umero de segundos y que despliegue en pantalla, las horas, minutos y segundos que representan."
   ]
  },
  {
   "cell_type": "code",
   "execution_count": 5,
   "metadata": {},
   "outputs": [
    {
     "name": "stdout",
     "output_type": "stream",
     "text": [
      "Número de segundos: 5\n",
      "5.0 segundos son: 0 horas 0 minutos 5.000000000000001 segundos\n"
     ]
    }
   ],
   "source": [
    "import math\n",
    "\n",
    "while True:\n",
    "    try:\n",
    "        cantidad = float(input(\"Número de segundos: \"))\n",
    "    except ValueError:\n",
    "        print(\"Debes escribir un número.\")\n",
    "        continue\n",
    "    if cantidad < 0:\n",
    "        print(\"Debes escribir un número positivo.\")\n",
    "        continue\n",
    "    else:\n",
    "        print(f\"{cantidad} segundos son: {math.floor(cantidad/3600)} horas {math.floor(((cantidad/3600)-math.floor(cantidad/3600))*60)} minutos {((((cantidad/3600-math.floor(cantidad/3600))*60)-math.floor(((cantidad/3600)-math.floor(cantidad/3600))*60))*60) } segundos\")\n",
    "        break"
   ]
  },
  {
   "cell_type": "markdown",
   "metadata": {},
   "source": [
    "### 2.2 Haga una funci´on en Python que dado un n´umero entre 1 y 20. Y un car´acter cualquiera despliegue cuatro patrones triangulares."
   ]
  },
  {
   "cell_type": "code",
   "execution_count": 101,
   "metadata": {},
   "outputs": [
    {
     "name": "stdout",
     "output_type": "stream",
     "text": [
      "Ingrese un valor númerico: 5\n",
      "Ingrese un simbolo:  *\n",
      "1\n",
      "*\n",
      "**\n",
      "***\n",
      "****\n",
      "*****\n",
      "2\n",
      "*****\n",
      "****\n",
      "***\n",
      "**\n",
      "*\n",
      "3\n",
      "     \n",
      "    *\n",
      "   **\n",
      "  ***\n",
      " ****\n",
      "*****\n",
      "4\n",
      "*****\n",
      " ****\n",
      "  ***\n",
      "   **\n",
      "    *\n"
     ]
    }
   ],
   "source": [
    "numero = int(input(\"Ingrese un valor númerico: \"))\n",
    "simbolo = input(\"Ingrese un simbolo:  \")\n",
    "\n",
    "print(\"1\")\n",
    "for i in range(1, numero + 1):\n",
    "    for j in range(i):\n",
    "        print(simbolo, end=\"\")\n",
    "    print()\n",
    "    \n",
    "print(\"2\")\n",
    "for i in range(1, numero+1):\n",
    "    for j in range(numero+1-i):\n",
    "        print(\"\",end=simbolo)\n",
    "    print()\n",
    "    \n",
    "print(\"3\")    \n",
    "for i in range (numero+1):\n",
    "    espacios= numero-i\n",
    "    print (\" \" * espacios + simbolo * i)\n",
    "    \n",
    "print(\"4\")    \n",
    "for i in range (numero):\n",
    "    espacios= i\n",
    "    print (\" \" * espacios + simbolo * (numero-i))\n",
    "    "
   ]
  },
  {
   "cell_type": "markdown",
   "metadata": {},
   "source": [
    "### 3.1 Haga un programa en Python que la fecha de nacimiento de una persona (puede ingresar por separado cada valor, es decir pedir primero d´ıa, luego mes y luego a˜no), despliegue la edad de la persona en a˜nos, meses y d´ıas. Su resultado puede ser aproximado.\n"
   ]
  },
  {
   "cell_type": "code",
   "execution_count": null,
   "metadata": {},
   "outputs": [],
   "source": [
    "from datetime import date\n",
    "from datetime import datetime\n",
    "import datetime as dt\n",
    "from dateutil.relativedelta import relativedelta\n",
    "\n",
    "año = int(input('Introduzca el año de nacimiento YYYY: '))\n",
    "mes = int(input('Introduzca el mes de nacimiento mm: '))\n",
    "dia = int(input('Introduzca el día de nacimiento dd: '))\n",
    "fecha_nacimiento = datetime(año, mes, dia)\n",
    "hoy = datetime.now()\n",
    "\n",
    "timedelta_obj = relativedelta(hoy, fecha_nacimiento)\n",
    "print(\"La edad es: \",\n",
    "    timedelta_obj.years, \" años\",\n",
    "    timedelta_obj.months, \" meses\",\n",
    "    timedelta_obj.days, \" días\"\n",
    ")\n"
   ]
  },
  {
   "cell_type": "markdown",
   "metadata": {},
   "source": [
    "### 2.1 Escriba una función en Python que dada una tupla de elementos (numeros o letras) esta se convierta a un string."
   ]
  },
  {
   "cell_type": "code",
   "execution_count": 108,
   "metadata": {},
   "outputs": [
    {
     "name": "stdout",
     "output_type": "stream",
     "text": [
      "ingrese el primer elemento: 10\n",
      "ingrese el segundo elemento: 20\n",
      "ingrese el tercer elemento: 40\n",
      "ingrese el cuarto elemento: 5\n",
      "ingrese el quinto elemento: 70\n",
      "102040570\n",
      "forma 2\n",
      "('10', '20', '40', '5', '70')\n",
      "102040570"
     ]
    }
   ],
   "source": [
    "valor1 = input(\"ingrese el primer elemento: \")\n",
    "valor2 = input(\"ingrese el segundo elemento: \")\n",
    "valor3 = input(\"ingrese el tercer elemento: \")\n",
    "valor4 = input(\"ingrese el cuarto elemento: \")\n",
    "valor5 = input(\"ingrese el quinto elemento: \")\n",
    "\n",
    "valores = (valor1, valor2, valor3, valor4, valor5)\n",
    "#valores = (10, 20, 40, 5, 70)\n",
    "\n",
    "valores2 = \"\".join(valores)\n",
    "print(valores2)\n",
    "\n",
    "print(\"forma 2\")\n",
    "#print(valores)\n",
    "for i in valores:\n",
    "    print(i, end=\"\")"
   ]
  },
  {
   "cell_type": "markdown",
   "metadata": {},
   "source": [
    "### 2.2 Cree un programa en Python que dada una lista de tuplas, elimine las tuplas que están vacías"
   ]
  },
  {
   "cell_type": "code",
   "execution_count": 42,
   "metadata": {},
   "outputs": [
    {
     "name": "stdout",
     "output_type": "stream",
     "text": [
      "[(), (), ('X',), ('a', 'b'), ('a', 'b', 'c'), 'd']\n",
      "[('X',), ('a', 'b'), ('a', 'b', 'c'), 'd']\n"
     ]
    }
   ],
   "source": [
    "lista = [(), (), ('X',), ('a', 'b'), ('a', 'b', 'c'), ('d')]\n",
    "tuplas = [i for i in lista if i]\n",
    "print(tuplas)\n"
   ]
  },
  {
   "cell_type": "markdown",
   "metadata": {},
   "source": [
    "### 3.1 Cree una función en Python que dada una tupla de tuplas con numeros, produzca una tuplacon el promedio de cada tupla individual. "
   ]
  },
  {
   "cell_type": "code",
   "execution_count": 100,
   "metadata": {},
   "outputs": [
    {
     "data": {
      "text/plain": [
       "(10.5, 44, 58)"
      ]
     },
     "execution_count": 100,
     "metadata": {},
     "output_type": "execute_result"
    }
   ],
   "source": [
    "lista = ((10, 10, 10, 12), (30, 45, 56, 45), (81, 80, 39, 32))\n",
    "lista2 = tuple(lista)\n",
    "\n",
    "lst=[]\n",
    "for i in lista2: \n",
    "        x=mean(i)\n",
    "        lst.append(x)\n",
    "\n",
    "tuple(lst)"
   ]
  },
  {
   "cell_type": "code",
   "execution_count": null,
   "metadata": {},
   "outputs": [],
   "source": []
  },
  {
   "cell_type": "code",
   "execution_count": null,
   "metadata": {},
   "outputs": [],
   "source": []
  }
 ],
 "metadata": {
  "kernelspec": {
   "display_name": "Python 3",
   "language": "python",
   "name": "python3"
  },
  "language_info": {
   "codemirror_mode": {
    "name": "ipython",
    "version": 3
   },
   "file_extension": ".py",
   "mimetype": "text/x-python",
   "name": "python",
   "nbconvert_exporter": "python",
   "pygments_lexer": "ipython3",
   "version": "3.6.10"
  }
 },
 "nbformat": 4,
 "nbformat_minor": 4
}
